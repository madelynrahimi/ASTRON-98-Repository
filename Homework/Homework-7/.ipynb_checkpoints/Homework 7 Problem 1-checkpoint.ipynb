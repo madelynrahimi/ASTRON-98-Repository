{
 "cells": [
  {
   "cell_type": "code",
   "execution_count": 25,
   "id": "c220e25d",
   "metadata": {},
   "outputs": [],
   "source": [
    "import numpy as np\n",
    "import pandas as pd\n",
    "import json"
   ]
  },
  {
   "cell_type": "code",
   "execution_count": 33,
   "id": "6f4dc82d",
   "metadata": {},
   "outputs": [
    {
     "name": "stdout",
     "output_type": "stream",
     "text": [
      "[{\"created_at\": \"Sat Feb 06 20:22:38 +0000 2021\", \"id\": 1358149122264563712, \"id_str\": \"1358149122264563712\", \"full_text\": \"RT @RepEscobar: Our country has the moral obligation and responsibility to reunite every single family separated at the southern border.\\n\\nT\\u2026\", \"truncated\": false, \"display_text_range\": [0, 140], \"entities\": {\"hashtags\": [], \"symbols\": [], \"user_mentions\": [{\"screen_name\": \"RepEscobar\", \"name\": \"Rep. Veronica Escobar\", \"id\": 1075517806551154689, \"id_str\": \"1075517806551154689\", \"indices\": [3, 14]}], \"urls\": []}, \"source\": \"<a href=\\\"http://twitter.com/download/iphone\\\" rel=\\\"nofollow\\\">Twitter for iPhone</a>\", \"in_reply_to_status_id\": null, \"in_reply_to_status_id_str\": null, \"in_reply_to_user_id\": null, \"in_reply_to_user_id_str\": null, \"in_reply_to_screen_name\": null, \"user\": {\"id\": 138203134, \"id_str\": \"138203134\", \"name\": \"Alexandria Ocasio-Cortez\", \"screen_name\": \"AOC\", \"location\": \"Bronx + Queens, NYC\", \"description\": \"US Representative,NY-14 (BX & Queen\n",
      "20:22:38 \n"
     ]
    }
   ],
   "source": [
    "df_aoc = open(\"AOC_recent_tweets.txt\").read(1000)\n",
    "print(df_aoc)\n",
    "entry = df_aoc[28:37]\n",
    "print(entry)"
   ]
  },
  {
   "cell_type": "code",
   "execution_count": 24,
   "id": "0800226d",
   "metadata": {},
   "outputs": [
    {
     "name": "stdout",
     "output_type": "stream",
     "text": [
      "20.377222222222223\n"
     ]
    }
   ],
   "source": [
    "def time_in_hours(entry):\n",
    "    entry_dt = pd.to_datetime(entry)\n",
    "    timestamp = (entry_dt.hour) + (entry_dt.minute/60) + (entry_dt.second/3600)\n",
    "    return timestamp\n",
    "\n",
    "print(time_in_hours(entry))"
   ]
  },
  {
   "cell_type": "code",
   "execution_count": 35,
   "id": "77585390",
   "metadata": {},
   "outputs": [
    {
     "name": "stdout",
     "output_type": "stream",
     "text": [
      "  created_at  hours                                          full_text\n",
      "0   20:22:28  20.38  RT @RepEscobar: Our country has the moral obli...\n"
     ]
    }
   ],
   "source": [
    "new_aoc_dict = {'created_at':['20:22:28'],'hours':['20.38'],'full_text':[\"RT @RepEscobar: Our country has the moral obligation and responsibility to reunite every single family separated at the southern border.\"]}\n",
    "new_aoc_df = pd.DataFrame(new_aoc_dict)\n",
    "print(new_aoc_df)"
   ]
  },
  {
   "cell_type": "code",
   "execution_count": null,
   "id": "2a6c1e2c",
   "metadata": {},
   "outputs": [],
   "source": []
  }
 ],
 "metadata": {
  "kernelspec": {
   "display_name": "Python 3 (ipykernel)",
   "language": "python",
   "name": "python3"
  },
  "language_info": {
   "codemirror_mode": {
    "name": "ipython",
    "version": 3
   },
   "file_extension": ".py",
   "mimetype": "text/x-python",
   "name": "python",
   "nbconvert_exporter": "python",
   "pygments_lexer": "ipython3",
   "version": "3.11.5"
  }
 },
 "nbformat": 4,
 "nbformat_minor": 5
}
