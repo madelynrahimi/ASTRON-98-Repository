{
 "cells": [
  {
   "cell_type": "code",
   "execution_count": 1,
   "id": "4b75de9e",
   "metadata": {},
   "outputs": [],
   "source": [
    "from astropy.io import fits"
   ]
  },
  {
   "cell_type": "code",
   "execution_count": 4,
   "id": "f1c1ae0c",
   "metadata": {},
   "outputs": [],
   "source": [
    "fit = fits.open('fits_file_disc.fits')"
   ]
  },
  {
   "cell_type": "code",
   "execution_count": 5,
   "id": "6590e8eb",
   "metadata": {},
   "outputs": [
    {
     "name": "stdout",
     "output_type": "stream",
     "text": [
      "Filename: fits_file_disc.fits\n",
      "No.    Name      Ver    Type      Cards   Dimensions   Format\n",
      "  0  PRIMARY       1 PrimaryHDU       4   ()      \n",
      "  1                1 BinTableHDU     12   31023R x 2C   [E, E]   \n"
     ]
    }
   ],
   "source": [
    "fit.info()"
   ]
  },
  {
   "cell_type": "code",
   "execution_count": 9,
   "id": "720586d1",
   "metadata": {},
   "outputs": [
    {
     "name": "stdout",
     "output_type": "stream",
     "text": [
      "Filename: fits_file_disc.fits\n",
      "No.    Name      Ver    Type      Cards   Dimensions   Format\n",
      "  0  PRIMARY       1 PrimaryHDU       4   ()      \n",
      "  1                1 BinTableHDU     12   31023R x 2C   [E, E]   \n"
     ]
    }
   ],
   "source": [
    "with fits.open('fits_file_disc.fits') as fit:\n",
    "    fit.info()\n",
    "    data = fit[1].data"
   ]
  },
  {
   "cell_type": "code",
   "execution_count": 8,
   "id": "728572ab",
   "metadata": {},
   "outputs": [],
   "source": [
    "from astropy.wcs import WCS"
   ]
  },
  {
   "cell_type": "code",
   "execution_count": 11,
   "id": "a3793486",
   "metadata": {},
   "outputs": [
    {
     "name": "stdout",
     "output_type": "stream",
     "text": [
      "Filename: fits_file_disc.fits\n",
      "No.    Name      Ver    Type      Cards   Dimensions   Format\n",
      "  0  PRIMARY       1 PrimaryHDU       4   ()      \n",
      "  1                1 BinTableHDU     12   31023R x 2C   [E, E]   \n"
     ]
    }
   ],
   "source": [
    "with fits.open('fits_file_disc.fits') as fit:\n",
    "    fit.info()\n",
    "    data = fit[1].data\n",
    "    hdr = fit[1].header"
   ]
  },
  {
   "cell_type": "code",
   "execution_count": 18,
   "id": "a6b71bed",
   "metadata": {},
   "outputs": [
    {
     "data": {
      "text/plain": [
       "array([  500.    ,   500.0834,   500.1668, ..., 59995.562 , 60005.562 ,\n",
       "       60015.574 ], dtype=float32)"
      ]
     },
     "execution_count": 18,
     "metadata": {},
     "output_type": "execute_result"
    }
   ],
   "source": [
    "data.field('Flux')\n",
    "data.field('Wavelength (Angstroms)')"
   ]
  },
  {
   "cell_type": "code",
   "execution_count": null,
   "id": "da21ba84",
   "metadata": {},
   "outputs": [],
   "source": []
  }
 ],
 "metadata": {
  "kernelspec": {
   "display_name": "Python 3 (ipykernel)",
   "language": "python",
   "name": "python3"
  },
  "language_info": {
   "codemirror_mode": {
    "name": "ipython",
    "version": 3
   },
   "file_extension": ".py",
   "mimetype": "text/x-python",
   "name": "python",
   "nbconvert_exporter": "python",
   "pygments_lexer": "ipython3",
   "version": "3.11.5"
  }
 },
 "nbformat": 4,
 "nbformat_minor": 5
}
